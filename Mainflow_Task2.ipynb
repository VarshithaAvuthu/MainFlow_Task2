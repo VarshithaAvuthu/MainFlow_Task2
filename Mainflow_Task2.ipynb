{
 "cells": [
  {
   "cell_type": "code",
   "execution_count": 1,
   "id": "e628da39-fd1f-4828-a4ae-3bb48d396f74",
   "metadata": {},
   "outputs": [
    {
     "name": "stdin",
     "output_type": "stream",
     "text": [
      "Enter a number:  3\n"
     ]
    },
    {
     "name": "stdout",
     "output_type": "stream",
     "text": [
      "True\n"
     ]
    }
   ],
   "source": [
    "#task2\n",
    "'''9. Prime Number\n",
    "Objective: Determine if a number is prime\n",
    "Input. A single integer nom.\n",
    "Output: True if prim, otherwise False\n",
    "Hint: A prime number has no divisors other than 1 and itself check divisors up to neart(n)n.\n",
    "'''\n",
    "import math\n",
    "def is_prime(n):\n",
    "    if n < 2:\n",
    "        return False\n",
    "    for i in range(2, int(math.sqrt(n)) + 1):\n",
    "        if n % i == 0:\n",
    "            return False\n",
    "    return True\n",
    "# Example usage\n",
    "num = int(input(\"Enter a number: \"))\n",
    "print(is_prime(num))\n"
   ]
  },
  {
   "cell_type": "code",
   "execution_count": 2,
   "id": "03449e3e-0f48-4273-9dab-af31144bbf96",
   "metadata": {},
   "outputs": [
    {
     "name": "stdin",
     "output_type": "stream",
     "text": [
      "Enter a number:  45\n"
     ]
    },
    {
     "name": "stdout",
     "output_type": "stream",
     "text": [
      "9\n"
     ]
    }
   ],
   "source": [
    "#Task2\n",
    "'''10. Sum of Digits\n",
    "Objective: Find the sum of the digts in a number. Input: An integer nin\n",
    "Output: Single intoger, the sum of digita\n",
    "Hint: Convert the number to a string. Iterate through characters, and sum up the digital'''\n",
    "def sum_of_digits(n):\n",
    "    return sum(int(digit) for digit in str(n))\n",
    "\n",
    "# Example usage\n",
    "num = int(input(\"Enter a number: \"))\n",
    "print(sum_of_digits(num))\n"
   ]
  },
  {
   "cell_type": "code",
   "execution_count": 3,
   "id": "c26ad3ba-ea4e-458e-bb5f-8bb849c2f830",
   "metadata": {},
   "outputs": [
    {
     "name": "stdin",
     "output_type": "stream",
     "text": [
      "Enter two numbers:  20 30\n"
     ]
    },
    {
     "name": "stdout",
     "output_type": "stream",
     "text": [
      "GCD: 10, LCM: 60\n"
     ]
    }
   ],
   "source": [
    "#Task2\n",
    "'''11 LCM and GCD\n",
    "Objective: Calculate the Least Common Multiple (LCM) and Greatest Common Divisor(GCD) of two integers\n",
    "Input: Two integers aaa and bbb\n",
    "Output: Two integers. LCM and GCD of aaa and bbb\n",
    "Hint: Use the relationship LCM(ab) a b GCD(a,bivex CMKka, b)\\fracle Scdot \n",
    "[x[GCD, LCM(a.) GCD(ab) ab Python's nat god() function can simplify '''\n",
    "import math\n",
    "def gcd_lcm(a, b):\n",
    "    gcd_value = math.gcd(a, b)  # Compute GCD\n",
    "    lcm_value = (a * b) // gcd_value  # Compute LCM using formula\n",
    "    return gcd_value, lcm_value\n",
    "# Example usage\n",
    "a, b = map(int, input(\"Enter two numbers: \").split())\n",
    "gcd_val, lcm_val = gcd_lcm(a, b)\n",
    "print(f\"GCD: {gcd_val}, LCM: {lcm_val}\")\n"
   ]
  },
  {
   "cell_type": "code",
   "execution_count": 4,
   "id": "be146719-e7eb-4081-841c-99ce19b93bf1",
   "metadata": {},
   "outputs": [
    {
     "name": "stdin",
     "output_type": "stream",
     "text": [
      "Enter list elements:  2 5 6 3\n"
     ]
    },
    {
     "name": "stdout",
     "output_type": "stream",
     "text": [
      "[3, 6, 5, 2]\n"
     ]
    }
   ],
   "source": [
    "#Task2\n",
    "'''12. List Reversal\n",
    "Objective: Reverse a given list without using built-in functions\n",
    "Input A list of integers\n",
    "Output: Reversed let\n",
    "Hint: Use a loop to swap elements from start to end or sice the list (-11)'''\n",
    "def reverse_list(lst):\n",
    "    return lst[::-1]  # Using slicing\n",
    "\n",
    "# Example usage\n",
    "numbers = list(map(int, input(\"Enter list elements: \").split()))\n",
    "print(reverse_list(numbers))\n"
   ]
  },
  {
   "cell_type": "code",
   "execution_count": 5,
   "id": "9a376ba8-e39e-4545-bfca-3bf1a12cf983",
   "metadata": {},
   "outputs": [
    {
     "name": "stdin",
     "output_type": "stream",
     "text": [
      "Enter list elements:  2 3 4 5 6\n"
     ]
    },
    {
     "name": "stdout",
     "output_type": "stream",
     "text": [
      "[2, 3, 4, 5, 6]\n"
     ]
    }
   ],
   "source": [
    "#task2\n",
    "'''\n",
    "13. Sort a List\n",
    "Objective: Sort a list of numbers in ascending order\n",
    "Input A list of integers\n",
    "Output: A sorted st\n",
    "Hint: Use sorting algorithms like bubble sort, selection sort, or simply sorted()'''\n",
    "def bubble_sort(lst):\n",
    "    n = len(lst)\n",
    "    for i in range(n):\n",
    "        for j in range(0, n - i - 1):\n",
    "            if lst[j] > lst[j + 1]:\n",
    "                lst[j], lst[j + 1] = lst[j + 1], lst[j]\n",
    "    return lst\n",
    "\n",
    "# Example usage\n",
    "numbers = list(map(int, input(\"Enter list elements: \").split()))\n",
    "print(bubble_sort(numbers))\n"
   ]
  },
  {
   "cell_type": "code",
   "execution_count": 6,
   "id": "58b1f3f2-7013-42f0-b549-f0d2d789b43e",
   "metadata": {},
   "outputs": [
    {
     "name": "stdin",
     "output_type": "stream",
     "text": [
      "Enter list elements:  2 3 2 4 5\n"
     ]
    },
    {
     "name": "stdout",
     "output_type": "stream",
     "text": [
      "[2, 3, 4, 5]\n"
     ]
    }
   ],
   "source": [
    "#task2\n",
    "'''14. Remove Duplicates\n",
    "Objective. Remove duplicate elements from a list\n",
    "Input: A list of integers\n",
    "Output: A list with unique elements.\n",
    "Hint Use unique elements to eliminate duplicates or iterate and add unique elements to a list\n",
    "'''\n",
    "def remove_duplicates(lst):\n",
    "    return list(set(lst))  # Using set\n",
    "\n",
    "# Example usage\n",
    "numbers = list(map(int, input(\"Enter list elements: \").split()))\n",
    "print(remove_duplicates(numbers))\n",
    "\n"
   ]
  },
  {
   "cell_type": "code",
   "execution_count": 7,
   "id": "d288cb6f-e568-4432-8dbb-12890ca1f856",
   "metadata": {},
   "outputs": [
    {
     "name": "stdin",
     "output_type": "stream",
     "text": [
      "Enter a string:  varshi\n"
     ]
    },
    {
     "name": "stdout",
     "output_type": "stream",
     "text": [
      "6\n"
     ]
    }
   ],
   "source": [
    "#task2\n",
    "'''15. String Langth ngin\n",
    "Objective: Find the length of a string without using the len() function.\n",
    "Input: A string\n",
    "Output: Integer representing the length. Hint: Use a loop to count characters in the string,'''\n",
    "def string_length(s):\n",
    "    count = 0\n",
    "    for char in s:\n",
    "        count += 1\n",
    "    return count\n",
    "\n",
    "# Example usage\n",
    "text = input(\"Enter a string: \")\n",
    "print(string_length(text))\n"
   ]
  },
  {
   "cell_type": "code",
   "execution_count": 8,
   "id": "ee661a87-96ce-4270-8eba-bf947aaba0dd",
   "metadata": {},
   "outputs": [
    {
     "name": "stdin",
     "output_type": "stream",
     "text": [
      "Enter a string:  varshitha\n"
     ]
    },
    {
     "name": "stdout",
     "output_type": "stream",
     "text": [
      "Vowels: 3, Consonants: 6\n"
     ]
    }
   ],
   "source": [
    "#Task2\n",
    "'''16. Count Vowels and Consonants\n",
    "Objective. Count the number of vowels and consonants in a string\n",
    "Input. A string\n",
    "Output: Two intogers count of vowels and count of consonants.'''\n",
    "\n",
    "\n",
    "def count_vowels_consonants(s):\n",
    "    vowels = \"aeiouAEIOU\"\n",
    "    vowel_count = sum(1 for char in s if char in vowels)\n",
    "    consonant_count = sum(1 for char in s if char.isalpha() and char not in vowels)\n",
    "    return vowel_count, consonant_count\n",
    "\n",
    "# Example usage\n",
    "text = input(\"Enter a string: \")\n",
    "vowels, consonants = count_vowels_consonants(text)\n",
    "print(f\"Vowels: {vowels}, Consonants: {consonants}\")\n"
   ]
  },
  {
   "cell_type": "code",
   "execution_count": null,
   "id": "8e78b11b-068b-4389-aa2f-df13b12531cb",
   "metadata": {},
   "outputs": [],
   "source": []
  }
 ],
 "metadata": {
  "kernelspec": {
   "display_name": "Python 3 (ipykernel)",
   "language": "python",
   "name": "python3"
  },
  "language_info": {
   "codemirror_mode": {
    "name": "ipython",
    "version": 3
   },
   "file_extension": ".py",
   "mimetype": "text/x-python",
   "name": "python",
   "nbconvert_exporter": "python",
   "pygments_lexer": "ipython3",
   "version": "3.11.7"
  }
 },
 "nbformat": 4,
 "nbformat_minor": 5
}
